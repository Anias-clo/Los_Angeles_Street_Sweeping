{
 "cells": [
  {
   "cell_type": "markdown",
   "source": [
    "# Street Sweeping Routes"
   ],
   "metadata": {}
  },
  {
   "cell_type": "code",
   "execution_count": 2,
   "source": [
    "import pandas as pd\n",
    "import numpy as np\n",
    "\n",
    "import matplotlib.pyplot as plt\n",
    "import seaborn as sns"
   ],
   "outputs": [],
   "metadata": {}
  },
  {
   "cell_type": "code",
   "execution_count": 3,
   "source": [
    "df = pd.read_csv('routes.csv')"
   ],
   "outputs": [],
   "metadata": {}
  },
  {
   "cell_type": "code",
   "execution_count": 4,
   "source": [
    "df.head()"
   ],
   "outputs": [
    {
     "output_type": "execute_result",
     "data": {
      "text/plain": [
       "    Route No Council District Time Start  Time End  \\\n",
       "0   * 17P100                2   10:00 AM  12:00 PM   \n",
       "1    *17P100                2   10:00 AM  12:00 PM   \n",
       "2  10P136 Th               10    8:00 AM  10:00 AM   \n",
       "3   10P136 W               10    8:00 AM  10:00 AM   \n",
       "4   10P137 M               10    9:00 AM  11:00 AM   \n",
       "\n",
       "                                          Boundaries  \n",
       "0  Chandler Bl. to Ventura Fwy / Colfax Av. to La...  \n",
       "1  Chandler Bl. to Ventura Fwy / Colfax Av. to La...  \n",
       "2  La Brea Ave to Arlington Ave- Santa Monica Fwy...  \n",
       "3  La Brea Ave to Arlington Ave -Santa Monica Fwy...  \n",
       "4  Adams Blvd to Jefferson Blvd - La Cienega Blvd...  "
      ],
      "text/html": [
       "<div>\n",
       "<style scoped>\n",
       "    .dataframe tbody tr th:only-of-type {\n",
       "        vertical-align: middle;\n",
       "    }\n",
       "\n",
       "    .dataframe tbody tr th {\n",
       "        vertical-align: top;\n",
       "    }\n",
       "\n",
       "    .dataframe thead th {\n",
       "        text-align: right;\n",
       "    }\n",
       "</style>\n",
       "<table border=\"1\" class=\"dataframe\">\n",
       "  <thead>\n",
       "    <tr style=\"text-align: right;\">\n",
       "      <th></th>\n",
       "      <th>Route No</th>\n",
       "      <th>Council District</th>\n",
       "      <th>Time Start</th>\n",
       "      <th>Time End</th>\n",
       "      <th>Boundaries</th>\n",
       "    </tr>\n",
       "  </thead>\n",
       "  <tbody>\n",
       "    <tr>\n",
       "      <th>0</th>\n",
       "      <td>* 17P100</td>\n",
       "      <td>2</td>\n",
       "      <td>10:00 AM</td>\n",
       "      <td>12:00 PM</td>\n",
       "      <td>Chandler Bl. to Ventura Fwy / Colfax Av. to La...</td>\n",
       "    </tr>\n",
       "    <tr>\n",
       "      <th>1</th>\n",
       "      <td>*17P100</td>\n",
       "      <td>2</td>\n",
       "      <td>10:00 AM</td>\n",
       "      <td>12:00 PM</td>\n",
       "      <td>Chandler Bl. to Ventura Fwy / Colfax Av. to La...</td>\n",
       "    </tr>\n",
       "    <tr>\n",
       "      <th>2</th>\n",
       "      <td>10P136 Th</td>\n",
       "      <td>10</td>\n",
       "      <td>8:00 AM</td>\n",
       "      <td>10:00 AM</td>\n",
       "      <td>La Brea Ave to Arlington Ave- Santa Monica Fwy...</td>\n",
       "    </tr>\n",
       "    <tr>\n",
       "      <th>3</th>\n",
       "      <td>10P136 W</td>\n",
       "      <td>10</td>\n",
       "      <td>8:00 AM</td>\n",
       "      <td>10:00 AM</td>\n",
       "      <td>La Brea Ave to Arlington Ave -Santa Monica Fwy...</td>\n",
       "    </tr>\n",
       "    <tr>\n",
       "      <th>4</th>\n",
       "      <td>10P137 M</td>\n",
       "      <td>10</td>\n",
       "      <td>9:00 AM</td>\n",
       "      <td>11:00 AM</td>\n",
       "      <td>Adams Blvd to Jefferson Blvd - La Cienega Blvd...</td>\n",
       "    </tr>\n",
       "  </tbody>\n",
       "</table>\n",
       "</div>"
      ]
     },
     "metadata": {},
     "execution_count": 4
    }
   ],
   "metadata": {}
  },
  {
   "cell_type": "code",
   "execution_count": 5,
   "source": [
    "df.info()"
   ],
   "outputs": [
    {
     "output_type": "stream",
     "name": "stdout",
     "text": [
      "<class 'pandas.core.frame.DataFrame'>\n",
      "RangeIndex: 864 entries, 0 to 863\n",
      "Data columns (total 5 columns):\n",
      " #   Column            Non-Null Count  Dtype \n",
      "---  ------            --------------  ----- \n",
      " 0   Route No          864 non-null    object\n",
      " 1   Council District  864 non-null    object\n",
      " 2   Time Start        864 non-null    object\n",
      " 3   Time End          864 non-null    object\n",
      " 4   Boundaries        864 non-null    object\n",
      "dtypes: object(5)\n",
      "memory usage: 33.9+ KB\n"
     ]
    }
   ],
   "metadata": {}
  },
  {
   "cell_type": "code",
   "execution_count": 6,
   "source": [
    "df.describe()"
   ],
   "outputs": [
    {
     "output_type": "execute_result",
     "data": {
      "text/plain": [
       "        Route No Council District Time Start  Time End  \\\n",
       "count        864              864        864       864   \n",
       "unique       864               33         12        15   \n",
       "top     17P292 W                8    8:00 AM  10:00 AM   \n",
       "freq           1              119        286       242   \n",
       "\n",
       "                                               Boundaries  \n",
       "count                                                 864  \n",
       "unique                                                456  \n",
       "top     Rinaldi st. to San Fernando Mission bl./Balboa...  \n",
       "freq                                                    4  "
      ],
      "text/html": [
       "<div>\n",
       "<style scoped>\n",
       "    .dataframe tbody tr th:only-of-type {\n",
       "        vertical-align: middle;\n",
       "    }\n",
       "\n",
       "    .dataframe tbody tr th {\n",
       "        vertical-align: top;\n",
       "    }\n",
       "\n",
       "    .dataframe thead th {\n",
       "        text-align: right;\n",
       "    }\n",
       "</style>\n",
       "<table border=\"1\" class=\"dataframe\">\n",
       "  <thead>\n",
       "    <tr style=\"text-align: right;\">\n",
       "      <th></th>\n",
       "      <th>Route No</th>\n",
       "      <th>Council District</th>\n",
       "      <th>Time Start</th>\n",
       "      <th>Time End</th>\n",
       "      <th>Boundaries</th>\n",
       "    </tr>\n",
       "  </thead>\n",
       "  <tbody>\n",
       "    <tr>\n",
       "      <th>count</th>\n",
       "      <td>864</td>\n",
       "      <td>864</td>\n",
       "      <td>864</td>\n",
       "      <td>864</td>\n",
       "      <td>864</td>\n",
       "    </tr>\n",
       "    <tr>\n",
       "      <th>unique</th>\n",
       "      <td>864</td>\n",
       "      <td>33</td>\n",
       "      <td>12</td>\n",
       "      <td>15</td>\n",
       "      <td>456</td>\n",
       "    </tr>\n",
       "    <tr>\n",
       "      <th>top</th>\n",
       "      <td>17P292 W</td>\n",
       "      <td>8</td>\n",
       "      <td>8:00 AM</td>\n",
       "      <td>10:00 AM</td>\n",
       "      <td>Rinaldi st. to San Fernando Mission bl./Balboa...</td>\n",
       "    </tr>\n",
       "    <tr>\n",
       "      <th>freq</th>\n",
       "      <td>1</td>\n",
       "      <td>119</td>\n",
       "      <td>286</td>\n",
       "      <td>242</td>\n",
       "      <td>4</td>\n",
       "    </tr>\n",
       "  </tbody>\n",
       "</table>\n",
       "</div>"
      ]
     },
     "metadata": {},
     "execution_count": 6
    }
   ],
   "metadata": {}
  },
  {
   "cell_type": "code",
   "execution_count": 10,
   "source": [
    "df.columns = [x.lower().replace(' ', '_') for x in df.columns]"
   ],
   "outputs": [],
   "metadata": {}
  },
  {
   "cell_type": "code",
   "execution_count": 12,
   "source": [
    "df.route_no.value_counts()"
   ],
   "outputs": [
    {
     "output_type": "execute_result",
     "data": {
      "text/plain": [
       "17P292 W     1\n",
       "2P243 Th     1\n",
       "2P243 W      1\n",
       "2P236 Tu     1\n",
       "20P302 M     1\n",
       "            ..\n",
       "9P105 M      1\n",
       "12P225 M     1\n",
       "8P173 M      1\n",
       "11P189  M    1\n",
       "10P148 W     1\n",
       "Name: route_no, Length: 864, dtype: int64"
      ]
     },
     "metadata": {},
     "execution_count": 12
    }
   ],
   "metadata": {}
  },
  {
   "cell_type": "code",
   "execution_count": null,
   "source": [],
   "outputs": [],
   "metadata": {}
  }
 ],
 "metadata": {
  "orig_nbformat": 4,
  "language_info": {
   "name": "python",
   "version": "3.7.6",
   "mimetype": "text/x-python",
   "codemirror_mode": {
    "name": "ipython",
    "version": 3
   },
   "pygments_lexer": "ipython3",
   "nbconvert_exporter": "python",
   "file_extension": ".py"
  },
  "kernelspec": {
   "name": "python3",
   "display_name": "Python 3.7.6 64-bit ('base': conda)"
  },
  "interpreter": {
   "hash": "e134e05457d34029b6460cd73bbf1ed73f339b5b6d98c95be70b69eba114fe95"
  }
 },
 "nbformat": 4,
 "nbformat_minor": 2
}